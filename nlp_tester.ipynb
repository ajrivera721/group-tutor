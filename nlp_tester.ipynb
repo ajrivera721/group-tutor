{
 "cells": [
  {
   "cell_type": "code",
   "execution_count": 59,
   "metadata": {},
   "outputs": [],
   "source": [
    "# Data management packages\n",
    "import pandas as pd\n",
    "import json\n",
    "from pymongo import MongoClient\n",
    "\n",
    "# Natural Language Processing packages\n",
    "import nltk\n",
    "import string\n",
    "from nltk.corpus import stopwords\n",
    "from nltk.tokenize import word_tokenize\n",
    "import nltk.stem.snowball\n",
    "from sklearn.feature_extraction.text import TfidfVectorizer"
   ]
  },
  {
   "cell_type": "code",
   "execution_count": 52,
   "metadata": {},
   "outputs": [],
   "source": [
    "# Function to remove stopwords and punctuation from sentences\n",
    "def filter_sentences(data):\n",
    "    stop_words = set(stopwords.words('english')) \n",
    "    words = word_tokenize(data) \n",
    "    words=[word.lower() for word in words if word.isalpha()]\n",
    "    filtered_sentence = [w for w in words if not w in stop_words]\n",
    "    return filtered_sentence"
   ]
  },
  {
   "cell_type": "code",
   "execution_count": 53,
   "metadata": {},
   "outputs": [],
   "source": [
    "vectorizer = TfidfVectorizer(tokenizer=filter_sentences, stop_words='english')\n",
    "stemmer = nltk.stem.snowball.SnowballStemmer('english')\n",
    "tokenizer = nltk.tokenize.WordPunctTokenizer()\n",
    "stopwords = nltk.corpus.stopwords.words('english')\n",
    "stopwords.extend(string.punctuation)\n",
    "stopwords.append('')\n",
    "\n",
    "def cosine_sim(text1, text2):\n",
    "    tokens_a = [token.lower().strip(string.punctuation) for token in tokenizer.tokenize(text1) \\\n",
    "                    if token.lower().strip(string.punctuation) not in stopwords]\n",
    "    tokens_b = [token.lower().strip(string.punctuation) for token in tokenizer.tokenize(text2) \\\n",
    "                    if token.lower().strip(string.punctuation) not in stopwords]\n",
    "    stems_a = [stemmer.stem(token) for token in tokens_a]\n",
    "    stems_b = [stemmer.stem(token) for token in tokens_b]\n",
    "    ratio = len(set(stems_a).intersection(stems_b)) / float(len(set(stems_a).union(stems_b)))\n",
    "    return ratio\n",
    "    #tfidf = vectorizer.fit_transform([text1, text2])\n",
    "    #return ((tfidf * tfidf.T).A)[0,1]"
   ]
  },
  {
   "cell_type": "code",
   "execution_count": null,
   "metadata": {},
   "outputs": [],
   "source": [
    "client = MongoClient()\n",
    "def get_tickets():\n",
    "    db=client.test"
   ]
  },
  {
   "cell_type": "code",
   "execution_count": 54,
   "metadata": {},
   "outputs": [],
   "source": [
    "MAX_GROUP_SIZE = 4\n",
    "THRESHOLD = 0.3"
   ]
  },
  {
   "cell_type": "code",
   "execution_count": 55,
   "metadata": {},
   "outputs": [],
   "source": [
    "q = []\n",
    "names = []"
   ]
  },
  {
   "cell_type": "code",
   "execution_count": 56,
   "metadata": {},
   "outputs": [],
   "source": [
    "data = pd.read_csv(\"desc.csv\", names=[\"course\",\"name\",\"topic\",\"tag\", \"location\",\"description\"])"
   ]
  },
  {
   "cell_type": "code",
   "execution_count": 57,
   "metadata": {
    "scrolled": true
   },
   "outputs": [
    {
     "name": "stdout",
     "output_type": "stream",
     "text": [
      "=======0.6666666666666666======\n",
      "can I get help with finding string after under score?\n",
      "Can I get help with finding more than one under score?\n",
      "=======0.8======\n",
      "Can I get help on how to find the under score\n",
      "Can I get help with finding more than one under score?\n",
      "=======1.0======\n",
      "I need help with debugging my predictUnderscores\n",
      "I need help with debugging my predictUnderscores\n",
      "=======1.0======\n",
      "I need help with debugging my predictUnderscores\n",
      "I need help with debugging my predictUnderscores\n",
      "=======1.0======\n",
      "optimizing.. pruning the tree getting the max value under the tree not sure how to get and store this parameter\n",
      "optimizing.. pruning the tree getting the max value under the tree not sure how to get and store this parameter\n",
      "=======1.0======\n",
      "optimizing.. pruning the tree getting the max value under the tree not sure how to get and store this parameter\n",
      "optimizing.. pruning the tree getting the max value under the tree not sure how to get and store this parameter\n",
      "=======1.0======\n",
      "optimizing.. pruning the tree getting the max value under the tree not sure how to get and store this parameter\n",
      "optimizing.. pruning the tree getting the max value under the tree not sure how to get and store this parameter\n",
      "=======1.0======\n",
      "optimizing.. pruning the tree getting the max value under the tree not sure how to get and store this parameter\n",
      "optimizing.. pruning the tree getting the max value under the tree not sure how to get and store this parameter\n",
      "=======1.0======\n",
      "optimizing.. pruning the tree getting the max value under the tree not sure how to get and store this parameter\n",
      "optimizing.. pruning the tree getting the max value under the tree not sure how to get and store this parameter\n",
      "=======1.0======\n",
      "optimizing.. pruning the tree getting the max value under the tree not sure how to get and store this parameter\n",
      "optimizing.. pruning the tree getting the max value under the tree not sure how to get and store this parameter\n",
      "=======0.6666666666666666======\n",
      "Can I get help with finding more than one under score?\n",
      "can I get help with finding string after under score?\n",
      "=======0.8======\n",
      "Can I get help on how to find the under score\n",
      "can I get help with finding string after under score?\n",
      "=======0.8======\n",
      "Can I get help with finding more than one under score?\n",
      "Can I get help on how to find the under score\n",
      "=======0.8======\n",
      "can I get help with finding string after under score?\n",
      "Can I get help on how to find the under score\n",
      "=======0.3333333333333333======\n",
      "need help understanding predict underscore and our implementation\n",
      "Need clarification on using backtracking for predict underscore\n",
      "=======0.8571428571428571======\n",
      "profiling:/Code/cse100_pa2/build/src/25a6634@@autocomplete.cpp.executable@exe/DictionaryTrie.cpp.gcda:Skip\n",
      "profiling:/Code/cse100_pa2/build/src/25a6634@@autocomplete.cpp.executable@exe/util.cpp.gcda:Skip\n",
      "=======0.9230769230769231======\n",
      "profiling:/Code/cse100_pa2/build/src/25a6634@@autocomplete.cpp.executable@exe/autocomplete.cpp.gcda:Skip\n",
      "profiling:/Code/cse100_pa2/build/src/25a6634@@autocomplete.cpp.executable@exe/util.cpp.gcda:Skip\n",
      "=======1.0======\n",
      "profiling:/Code:Cannot create directory \n",
      "profiling:/Code:Cannot create directory \n",
      "=======0.8571428571428571======\n",
      "profiling:/Code/cse100_pa2/build/src/25a6634@@autocomplete.cpp.executable@exe/util.cpp.gcda:Skip\n",
      "profiling:/Code/cse100_pa2/build/src/25a6634@@autocomplete.cpp.executable@exe/DictionaryTrie.cpp.gcda:Skip\n",
      "=======0.9230769230769231======\n",
      "profiling:/Code/cse100_pa2/build/src/25a6634@@autocomplete.cpp.executable@exe/autocomplete.cpp.gcda:Skip\n",
      "profiling:/Code/cse100_pa2/build/src/25a6634@@autocomplete.cpp.executable@exe/DictionaryTrie.cpp.gcda:Skip\n",
      "=======1.0======\n",
      "profiling:/Code:Cannot create directory \n",
      "profiling:/Code:Cannot create directory \n",
      "=======0.9230769230769231======\n",
      "profiling:/Code/cse100_pa2/build/src/25a6634@@autocomplete.cpp.executable@exe/util.cpp.gcda:Skip\n",
      "profiling:/Code/cse100_pa2/build/src/25a6634@@autocomplete.cpp.executable@exe/autocomplete.cpp.gcda:Skip\n",
      "=======0.9230769230769231======\n",
      "profiling:/Code/cse100_pa2/build/src/25a6634@@autocomplete.cpp.executable@exe/DictionaryTrie.cpp.gcda:Skip\n",
      "profiling:/Code/cse100_pa2/build/src/25a6634@@autocomplete.cpp.executable@exe/autocomplete.cpp.gcda:Skip\n",
      "=======0.3333333333333333======\n",
      "Need clarification on using backtracking for predict underscore\n",
      "need help understanding predict underscore and our implementation\n"
     ]
    }
   ],
   "source": [
    "memes = data.loc[0, \"description\"]\n",
    "topic = data.loc[0, \"topic\"]\n",
    "tag = data.loc[0, \"tag\"]\n",
    "for index,row in data.iterrows():\n",
    "    for index2,row2 in data.iterrows():\n",
    "        if row2[\"topic\"] == row[\"topic\"] and row2[\"tag\"] == row[\"tag\"] and index!=index2:\n",
    "            similarity = cosine_sim(row2[\"description\"], row[\"description\"])\n",
    "            if similarity > THRESHOLD:\n",
    "                print(\"=======\" + str(similarity) + \"======\")\n",
    "                print(row2[\"description\"])\n",
    "                print(row[\"description\"])"
   ]
  },
  {
   "cell_type": "code",
   "execution_count": null,
   "metadata": {},
   "outputs": [],
   "source": [
    "def parse_json(data, context):\n",
    "    q = pd.read_csv(\"queues.csv\", names=[\"course\",\"names\",\"topic\",\"tag\", \"location\",\"descriptions\"])\n",
    "    with open(data['name'], 'r') as f:\n",
    "        j = json.load(f)\n",
    "    for index,ticket in q.iterrows():\n",
    "        if j[\"topic\"] == ticket[\"topic\"] and j[\"tag\"] == ticket[\"tag\"] and len(ticket[\"names\"]) < 4:\n",
    "            for d in ticket[\"descriptions\"]:\n",
    "                similarity = cosine_sim(j[\"descriptions\"], d)\n",
    "                if similarity > THRESHOLD:\n",
    "                    q.loc[index, \"names\"].append(j[\"name\"])\n",
    "                    q.loc[index, \"descriptions\"].append(j[\"description\"])\n",
    "                    q.to_csv(\"queues.csv\", index=False, header=False)\n",
    "                    return\n",
    "    q = q.append({\"course\":j[\"course\"],\"names\":[j[\"name\"]],\"topic\":j[\"topic\"],\"tag\":j[\"tag\"], \"location\":j[\"location\"],\"descriptions\":[j[\"description\"]]}, ignore_index=True)"
   ]
  }
 ],
 "metadata": {
  "kernelspec": {
   "display_name": "Python 3",
   "language": "python",
   "name": "python3"
  },
  "language_info": {
   "codemirror_mode": {
    "name": "ipython",
    "version": 3
   },
   "file_extension": ".py",
   "mimetype": "text/x-python",
   "name": "python",
   "nbconvert_exporter": "python",
   "pygments_lexer": "ipython3",
   "version": "3.7.4"
  }
 },
 "nbformat": 4,
 "nbformat_minor": 2
}
